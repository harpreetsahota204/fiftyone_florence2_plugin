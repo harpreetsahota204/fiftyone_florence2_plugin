{
 "cells": [
  {
   "cell_type": "markdown",
   "metadata": {},
   "source": [
    "Testing implemention of Florence2 as FO Model"
   ]
  },
  {
   "cell_type": "code",
   "execution_count": null,
   "metadata": {},
   "outputs": [],
   "source": [
    "!pip install einops timm"
   ]
  },
  {
   "cell_type": "code",
   "execution_count": 2,
   "metadata": {},
   "outputs": [
    {
     "name": "stderr",
     "output_type": "stream",
     "text": [
      "/opt/anaconda3/envs/fiftyone/lib/python3.11/site-packages/tqdm/auto.py:21: TqdmWarning: IProgress not found. Please update jupyter and ipywidgets. See https://ipywidgets.readthedocs.io/en/stable/user_install.html\n",
      "  from .autonotebook import tqdm as notebook_tqdm\n"
     ]
    }
   ],
   "source": [
    "import sys\n",
    "sys.path.append(\".\")\n",
    "from florence2 import Florence2, run_florence2_model"
   ]
  },
  {
   "cell_type": "code",
   "execution_count": 3,
   "metadata": {},
   "outputs": [
    {
     "name": "stdout",
     "output_type": "stream",
     "text": [
      "Dataset already downloaded\n",
      "Loading existing dataset 'quickstart'. To reload from disk, either delete the existing dataset or provide a custom `dataset_name` to use\n"
     ]
    }
   ],
   "source": [
    "import fiftyone as fo\n",
    "import fiftyone.zoo as foz\n",
    "\n",
    "dataset = foz.load_zoo_dataset(\"quickstart\")"
   ]
  },
  {
   "cell_type": "code",
   "execution_count": 4,
   "metadata": {},
   "outputs": [],
   "source": [
    "MODEL_PATH =\"microsoft/Florence-2-base-ft\""
   ]
  },
  {
   "cell_type": "markdown",
   "metadata": {},
   "source": [
    "#### Captioning\n",
    "\n",
    "```python\n",
    "\n",
    "    \"caption\": {\n",
    "        \"params\": {\"detail_level\": [\"basic\", \"detailed\", \"more_detailed\"]},\n",
    "        \"required\": [],\n",
    "        \"task_mapping\": {\n",
    "            \"detailed\": \"<DETAILED_CAPTION>\",\n",
    "            \"more_detailed\": \"<MORE_DETAILED_CAPTION>\",\n",
    "            \"basic\": \"<CAPTION>\",\n",
    "            None: \"<CAPTION>\"  # Default value\n",
    "```"
   ]
  },
  {
   "cell_type": "code",
   "execution_count": 5,
   "metadata": {},
   "outputs": [
    {
     "name": "stdout",
     "output_type": "stream",
     "text": [
      "Using device: mps\n"
     ]
    },
    {
     "name": "stderr",
     "output_type": "stream",
     "text": [
      "/opt/anaconda3/envs/fiftyone/lib/python3.11/site-packages/timm/models/layers/__init__.py:48: FutureWarning: Importing from timm.models.layers is deprecated, please import via timm.layers\n",
      "  warnings.warn(f\"Importing from {__name__} is deprecated, please import via timm.layers\", FutureWarning)\n",
      "Florence2LanguageForConditionalGeneration has generative capabilities, as `prepare_inputs_for_generation` is explicitly overwritten. However, it doesn't directly inherit from `GenerationMixin`. From 👉v4.50👈 onwards, `PreTrainedModel` will NOT inherit from `GenerationMixin`, and this model will lose the ability to call `generate` and other related functions.\n",
      "  - If you're using `trust_remote_code=True`, you can get rid of this warning by loading the model with an auto class. See https://huggingface.co/docs/transformers/en/model_doc/auto#auto-classes\n",
      "  - If you are the owner of the model architecture code, please modify your model class such that it inherits from `GenerationMixin` (after `PreTrainedModel`, otherwise you'll get an exception).\n",
      "  - If you are not the owner of the model architecture class, please contact the model code owner to update it.\n"
     ]
    },
    {
     "name": "stdout",
     "output_type": "stream",
     "text": [
      " 100% |█████████████████| 200/200 [58.0s elapsed, 0s remaining, 3.5 samples/s]      \n"
     ]
    }
   ],
   "source": [
    "run_florence2_model(\n",
    "    dataset,\n",
    "    model_path=MODEL_PATH,\n",
    "    operation=\"caption\",\n",
    "    detail_level=\"basic\",\n",
    "    output_field=\"basic_caption\",\n",
    "    )"
   ]
  },
  {
   "cell_type": "code",
   "execution_count": null,
   "metadata": {},
   "outputs": [
    {
     "name": "stdout",
     "output_type": "stream",
     "text": [
      "Using device: mps\n",
      "  39% |██████-----------|  78/200 [52.5s elapsed, 1.4m remaining, 1.4 samples/s]   "
     ]
    }
   ],
   "source": [
    "run_florence2_model(\n",
    "    dataset,\n",
    "    model_path=MODEL_PATH,\n",
    "    operation=\"caption\",\n",
    "    detail_level=\"detailed\",\n",
    "    output_field=\"detailed_caption\",\n",
    "    )"
   ]
  },
  {
   "cell_type": "code",
   "execution_count": null,
   "metadata": {},
   "outputs": [],
   "source": [
    "run_florence2_model(\n",
    "    dataset,\n",
    "    model_path=MODEL_PATH,\n",
    "    operation=\"caption\",\n",
    "    detail_level=\"more_detailed\",\n",
    "    output_field=\"more_detailed_caption\",\n",
    "    )"
   ]
  },
  {
   "cell_type": "code",
   "execution_count": null,
   "metadata": {},
   "outputs": [],
   "source": [
    "dataset.first()"
   ]
  },
  {
   "cell_type": "markdown",
   "metadata": {},
   "source": [
    "##### Phrase grounding\n",
    "\n",
    "\n",
    "```python\n",
    "    \"phrase_grounding\": {\n",
    "        \"params\": {\"caption_field\": str, \"caption\": str},\n",
    "        \"required\": [],  # Will be validated in code\n",
    "        \"task\": \"<CAPTION_TO_PHRASE_GROUNDING>\"\n",
    "    },\n",
    "````"
   ]
  },
  {
   "cell_type": "code",
   "execution_count": null,
   "metadata": {},
   "outputs": [],
   "source": [
    "run_florence2_model(\n",
    "    dataset,\n",
    "    model_path=MODEL_PATH,\n",
    "    operation=\"phrase_grounding\",\n",
    "    caption_field=\"detailed_caption\",\n",
    "    output_field=\"florence_phrase_grounding\",\n",
    "    )"
   ]
  },
  {
   "cell_type": "code",
   "execution_count": null,
   "metadata": {},
   "outputs": [],
   "source": [
    "run_florence2_model(\n",
    "    dataset,\n",
    "    operation=\"phrase_grounding\",\n",
    "    model_path=MODEL_PATH,\n",
    "    caption=\"The inanimate object\",\n",
    "    output_field=\"fake_caption_phrase_grounding\",\n",
    "    )"
   ]
  },
  {
   "cell_type": "code",
   "execution_count": null,
   "metadata": {},
   "outputs": [],
   "source": [
    "dataset"
   ]
  },
  {
   "cell_type": "code",
   "execution_count": null,
   "metadata": {},
   "outputs": [],
   "source": [
    "dataset.first()"
   ]
  },
  {
   "cell_type": "markdown",
   "metadata": {},
   "source": [
    "##### Detection\n",
    "\n",
    "```python\n",
    "\"detection\": {\n",
    "        \"params\": {\"detection_type\": [\"detection\", \"dense_region_caption\", \"region_proposal\", \"open_vocabulary_detection\"],\n",
    "                   \"text_prompt\": str},\n",
    "        \"required\": [],\n",
    "        \"task_mapping\": {\n",
    "            \"detection\": \"<OD>\",\n",
    "            \"dense_region_caption\": \"<DENSE_REGION_CAPTION>\",\n",
    "            \"region_proposal\": \"<REGION_PROPOSAL>\",\n",
    "            \"open_vocabulary_detection\": \"<OPEN_VOCABULARY_DETECTION>\",\n",
    "            None: \"<OD>\"  # Default value\n",
    "        }\n",
    "    },\n",
    "```"
   ]
  },
  {
   "cell_type": "code",
   "execution_count": null,
   "metadata": {},
   "outputs": [],
   "source": [
    "run_florence2_model(\n",
    "    dataset,\n",
    "    operation=\"detection\",\n",
    "    detection_type=\"detection\"\n",
    "    model_path=MODEL_PATH,\n",
    "    # output_field=\"florence_phrase_grounding\",\n",
    "    )"
   ]
  },
  {
   "cell_type": "code",
   "execution_count": null,
   "metadata": {},
   "outputs": [],
   "source": [
    "run_florence2_model(\n",
    "    dataset,\n",
    "    operation=\"detection\",\n",
    "    detection_type=\"dense_region_caption\"\n",
    "    model_path=MODEL_PATH,\n",
    "    # output_field=\"florence_phrase_grounding\",\n",
    "    )"
   ]
  },
  {
   "cell_type": "code",
   "execution_count": null,
   "metadata": {},
   "outputs": [],
   "source": [
    "run_florence2_model(\n",
    "    dataset,\n",
    "    operation=\"detection\",\n",
    "    detection_type=\"region_proposal\"\n",
    "    model_path=MODEL_PATH,\n",
    "    # output_field=\"florence_phrase_grounding\",\n",
    "    )"
   ]
  },
  {
   "cell_type": "code",
   "execution_count": null,
   "metadata": {},
   "outputs": [],
   "source": [
    "run_florence2_model(\n",
    "    dataset,\n",
    "    operation=\"detection\",\n",
    "    detection_type=\"open_vocabulary_detection\"\n",
    "    model_path=MODEL_PATH,\n",
    "    # output_field=\"florence_phrase_grounding\",\n",
    "    )"
   ]
  },
  {
   "cell_type": "code",
   "execution_count": null,
   "metadata": {},
   "outputs": [],
   "source": []
  },
  {
   "cell_type": "markdown",
   "metadata": {},
   "source": [
    "##### Segmentation\n",
    "\n",
    "```python\n",
    "\n",
    "    \"segmentation\": {\n",
    "        \"params\": {\"expression\": str, \"expression_field\": str},\n",
    "        \"required\": [],  # Will be validated in code\n",
    "        \"task\": \"<REFERRING_EXPRESSION_SEGMENTATION>\"\n",
    "    }\n",
    "```"
   ]
  },
  {
   "cell_type": "code",
   "execution_count": null,
   "metadata": {},
   "outputs": [],
   "source": [
    "run_florence2_model(\n",
    "    dataset,\n",
    "    operation=\"segmentation\",\n",
    "    expression=\"\"\n",
    "    model_path=MODEL_PATH,\n",
    "    # output_field=\"florence_phrase_grounding\",\n",
    "    )"
   ]
  },
  {
   "cell_type": "code",
   "execution_count": null,
   "metadata": {},
   "outputs": [],
   "source": [
    "run_florence2_model(\n",
    "    dataset,\n",
    "    operation=\"segmentation\",\n",
    "    expression_field=\"\"\n",
    "    model_path=MODEL_PATH,\n",
    "    # output_field=\"florence_phrase_grounding\",\n",
    "    )"
   ]
  },
  {
   "cell_type": "markdown",
   "metadata": {},
   "source": [
    "##### Ocr\n",
    "\n",
    "```python\n",
    "    \"ocr\": {\n",
    "        \"params\": {\"store_region_info\": bool},\n",
    "        \"required\": [],\n",
    "        \"task\": \"<OCR>\",\n",
    "        \"region_task\": \"<OCR_WITH_REGION>\"\n",
    "    },\n",
    "```"
   ]
  },
  {
   "cell_type": "code",
   "execution_count": null,
   "metadata": {},
   "outputs": [],
   "source": [
    "run_florence2_model(\n",
    "    dataset,\n",
    "    model_path=MODEL_PATH,\n",
    "    store_region_info=True\n",
    "    # output_field=\"florence_phrase_grounding\",\n",
    "    )"
   ]
  },
  {
   "cell_type": "code",
   "execution_count": null,
   "metadata": {},
   "outputs": [],
   "source": [
    "run_florence2_model(\n",
    "    dataset,\n",
    "    model_path=MODEL_PATH,\n",
    "    store_region_info=False\n",
    "    # output_field=\"florence_phrase_grounding\",\n",
    "    )"
   ]
  }
 ],
 "metadata": {
  "kernelspec": {
   "display_name": "fiftyone",
   "language": "python",
   "name": "python3"
  },
  "language_info": {
   "codemirror_mode": {
    "name": "ipython",
    "version": 3
   },
   "file_extension": ".py",
   "mimetype": "text/x-python",
   "name": "python",
   "nbconvert_exporter": "python",
   "pygments_lexer": "ipython3",
   "version": "3.11.8"
  }
 },
 "nbformat": 4,
 "nbformat_minor": 2
}
