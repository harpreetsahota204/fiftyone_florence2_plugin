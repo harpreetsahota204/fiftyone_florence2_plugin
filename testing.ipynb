{
 "cells": [
  {
   "cell_type": "markdown",
   "metadata": {},
   "source": [
    "Testing implemention of Florence2 as FO Model"
   ]
  },
  {
   "cell_type": "code",
   "execution_count": 1,
   "metadata": {},
   "outputs": [],
   "source": [
    "import sys\n",
    "sys.path.append(\".\")\n",
    "from florence2 import Florence2, run_florence2_model"
   ]
  },
  {
   "cell_type": "code",
   "execution_count": 2,
   "metadata": {},
   "outputs": [],
   "source": [
    "import fiftyone as fo\n",
    "import fiftyone.zoo as foz\n",
    "\n",
    "dataset = fo.load_dataset(\"quickstart\")"
   ]
  },
  {
   "cell_type": "code",
   "execution_count": null,
   "metadata": {},
   "outputs": [],
   "source": [
    "MODEL_PATH =\"microsoft/Florence-2-base-ft\""
   ]
  },
  {
   "cell_type": "markdown",
   "metadata": {},
   "source": [
    "#### Captioning\n",
    "\n",
    "```python\n",
    "\n",
    "    \"caption\": {\n",
    "        \"params\": {\"detail_level\": [\"basic\", \"detailed\", \"more_detailed\"]},\n",
    "        \"required\": [],\n",
    "        \"task_mapping\": {\n",
    "            \"detailed\": \"<DETAILED_CAPTION>\",\n",
    "            \"more_detailed\": \"<MORE_DETAILED_CAPTION>\",\n",
    "            \"basic\": \"<CAPTION>\",\n",
    "            None: \"<CAPTION>\"  # Default value\n",
    "```"
   ]
  },
  {
   "cell_type": "code",
   "execution_count": null,
   "metadata": {},
   "outputs": [],
   "source": [
    "run_florence2_model(\n",
    "    dataset,\n",
    "    operation=\"caption\",\n",
    "    output_field=\"florence_caption\",\n",
    "    )"
   ]
  },
  {
   "cell_type": "markdown",
   "metadata": {},
   "source": [
    "##### Phrase grounding\n",
    "\n",
    "\n",
    "```python\n",
    "    \"phrase_grounding\": {\n",
    "        \"params\": {\"caption_field\": str, \"caption\": str},\n",
    "        \"required\": [],  # Will be validated in code\n",
    "        \"task\": \"<CAPTION_TO_PHRASE_GROUNDING>\"\n",
    "    },\n",
    "````"
   ]
  },
  {
   "cell_type": "code",
   "execution_count": 8,
   "metadata": {},
   "outputs": [],
   "source": [
    "run_florence2_model(\n",
    "    dataset,\n",
    "    operation=\"phrase_grounding\",\n",
    "    caption_field=\"florence_caption\",\n",
    "    output_field=\"florence_phrase_grounding\",\n",
    "    )"
   ]
  },
  {
   "cell_type": "code",
   "execution_count": null,
   "metadata": {},
   "outputs": [],
   "source": [
    "dataset"
   ]
  },
  {
   "cell_type": "code",
   "execution_count": null,
   "metadata": {},
   "outputs": [],
   "source": [
    "dataset.first()"
   ]
  },
  {
   "cell_type": "markdown",
   "metadata": {},
   "source": [
    "##### Detection\n",
    "\n",
    "```python\n",
    "\"detection\": {\n",
    "        \"params\": {\"detection_type\": [\"detection\", \"dense_region_caption\", \"region_proposal\", \"open_vocabulary_detection\"],\n",
    "                   \"text_prompt\": str},\n",
    "        \"required\": [],\n",
    "        \"task_mapping\": {\n",
    "            \"detection\": \"<OD>\",\n",
    "            \"dense_region_caption\": \"<DENSE_REGION_CAPTION>\",\n",
    "            \"region_proposal\": \"<REGION_PROPOSAL>\",\n",
    "            \"open_vocabulary_detection\": \"<OPEN_VOCABULARY_DETECTION>\",\n",
    "            None: \"<OD>\"  # Default value\n",
    "        }\n",
    "    },\n",
    "```"
   ]
  },
  {
   "cell_type": "code",
   "execution_count": null,
   "metadata": {},
   "outputs": [],
   "source": []
  },
  {
   "cell_type": "code",
   "execution_count": null,
   "metadata": {},
   "outputs": [],
   "source": []
  },
  {
   "cell_type": "markdown",
   "metadata": {},
   "source": [
    "##### Segmentation\n",
    "\n",
    "```python\n",
    "\n",
    "    \"segmentation\": {\n",
    "        \"params\": {\"expression\": str, \"expression_field\": str},\n",
    "        \"required\": [],  # Will be validated in code\n",
    "        \"task\": \"<REFERRING_EXPRESSION_SEGMENTATION>\"\n",
    "    }\n",
    "```"
   ]
  },
  {
   "cell_type": "code",
   "execution_count": null,
   "metadata": {},
   "outputs": [],
   "source": []
  },
  {
   "cell_type": "code",
   "execution_count": null,
   "metadata": {},
   "outputs": [],
   "source": []
  },
  {
   "cell_type": "markdown",
   "metadata": {},
   "source": [
    "##### Ocr\n",
    "\n",
    "```python\n",
    "    \"ocr\": {\n",
    "        \"params\": {\"store_region_info\": bool},\n",
    "        \"required\": [],\n",
    "        \"task\": \"<OCR>\",\n",
    "        \"region_task\": \"<OCR_WITH_REGION>\"\n",
    "    },\n",
    "```"
   ]
  },
  {
   "cell_type": "code",
   "execution_count": null,
   "metadata": {},
   "outputs": [],
   "source": []
  },
  {
   "cell_type": "code",
   "execution_count": null,
   "metadata": {},
   "outputs": [],
   "source": []
  }
 ],
 "metadata": {
  "kernelspec": {
   "display_name": "fiftyone",
   "language": "python",
   "name": "python3"
  },
  "language_info": {
   "codemirror_mode": {
    "name": "ipython",
    "version": 3
   },
   "file_extension": ".py",
   "mimetype": "text/x-python",
   "name": "python",
   "nbconvert_exporter": "python",
   "pygments_lexer": "ipython3",
   "version": "3.11.0"
  }
 },
 "nbformat": 4,
 "nbformat_minor": 2
}
