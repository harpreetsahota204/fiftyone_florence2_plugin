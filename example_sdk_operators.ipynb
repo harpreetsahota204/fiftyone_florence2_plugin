{
 "cells": [
  {
   "cell_type": "code",
   "execution_count": null,
   "metadata": {},
   "outputs": [],
   "source": [
    "!pip install fiftyone transformers<=4.49 torch einops timm accelerate"
   ]
  },
  {
   "cell_type": "code",
   "execution_count": 1,
   "metadata": {},
   "outputs": [],
   "source": [
    "import os\n",
    "os.environ['FIFTYONE_ALLOW_LEGACY_ORCHESTRATORS'] = 'true'"
   ]
  },
  {
   "cell_type": "code",
   "execution_count": 2,
   "metadata": {},
   "outputs": [],
   "source": [
    "import fiftyone.zoo as foz\n",
    "import fiftyone as fo\n",
    "\n",
    "dataset = foz.load_zoo_dataset(\"quickstart\")\n",
    "\n",
    "smol_ds = dataset.take(10).clone(name=\"smol_qs\")"
   ]
  },
  {
   "cell_type": "code",
   "execution_count": null,
   "metadata": {},
   "outputs": [],
   "source": [
    "smol_ds = "
   ]
  },
  {
   "cell_type": "markdown",
   "metadata": {},
   "source": []
  },
  {
   "cell_type": "markdown",
   "metadata": {},
   "source": [
    "# Captioning\n",
    "\n",
    "The Florence2 captioning operator can run in three different detail levels:\n",
    "\n",
    "1. **Basic** - This is the default mode, generating simple captions for images\n",
    "2. **Detailed** - Provides more comprehensive image descriptions\n",
    "3. **More Detailed** - Offers the most extensive and detailed image captions\n",
    "\n",
    "\n",
    "Each detail level progressively provides more information in the generated captions, allowing you to choose the appropriate level of description for your use case.\n",
    "\n",
    "\n",
    "The operator uses the Microsoft `Florence-2-base-ft` model and allows you to specify the output field name where the captions will be stored in your FiftyOne dataset. You can run the operator like this:\n"
   ]
  },
  {
   "cell_type": "code",
   "execution_count": 10,
   "metadata": {},
   "outputs": [],
   "source": [
    "import fiftyone.operators as foo\n",
    "\n",
    "MODEL_PATH =\"microsoft/Florence-2-base-ft\"\n",
    "\n",
    "florence2_captioning = foo.get_operator(\"@jacobmarks/florence2/caption_with_florence2\")"
   ]
  },
  {
   "cell_type": "markdown",
   "metadata": {},
   "source": [
    "When running in a notebook you follow these steps:\n",
    "\n",
    "1) Ensure that you have set the environment variable `os.environ['FIFTYONE_ALLOW_LEGACY_ORCHESTRATORS'] = 'true'`\n",
    "\n",
    "2) Kick off a [Delegated Service](https://beta-docs.voxel51.com/cli/#fiftyone-delegated-operations) by opening your terminal and executing `fiftyone delegated launch`\n",
    "\n",
    "3) Use the `await` syntax and pass `delegate=True` into your operator calls."
   ]
  },
  {
   "cell_type": "code",
   "execution_count": null,
   "metadata": {},
   "outputs": [],
   "source": [
    "await florence2_captioning(\n",
    "    smol_ds,\n",
    "    model_path=MODEL_PATH,\n",
    "    detail_level=\"basic\",\n",
    "    output_field=\"basic_caption\",\n",
    "    delegate=True\n",
    "    )"
   ]
  },
  {
   "cell_type": "code",
   "execution_count": null,
   "metadata": {},
   "outputs": [],
   "source": [
    "await florence2_captioning(\n",
    "    smol_ds,\n",
    "    model_path=MODEL_PATH,\n",
    "    detail_level=\"detailed\",\n",
    "    output_field=\"detailed_caption\",\n",
    "    )"
   ]
  },
  {
   "cell_type": "code",
   "execution_count": null,
   "metadata": {},
   "outputs": [],
   "source": [
    "await florence2_captioning(\n",
    "    smol_ds,\n",
    "    model_path=MODEL_PATH,\n",
    "    detail_level=\"more_detailed\",\n",
    "    output_field=\"more_detailed_caption\",\n",
    "    )"
   ]
  },
  {
   "cell_type": "code",
   "execution_count": null,
   "metadata": {},
   "outputs": [],
   "source": []
  }
 ],
 "metadata": {
  "kernelspec": {
   "display_name": "fiftyone",
   "language": "python",
   "name": "python3"
  },
  "language_info": {
   "codemirror_mode": {
    "name": "ipython",
    "version": 3
   },
   "file_extension": ".py",
   "mimetype": "text/x-python",
   "name": "python",
   "nbconvert_exporter": "python",
   "pygments_lexer": "ipython3",
   "version": "3.11.0"
  }
 },
 "nbformat": 4,
 "nbformat_minor": 2
}
